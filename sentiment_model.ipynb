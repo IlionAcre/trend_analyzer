{
 "cells": [
  {
   "cell_type": "code",
   "execution_count": 1,
   "metadata": {},
   "outputs": [],
   "source": [
    "from transformers import pipeline\n",
    "import torch\n",
    "import torch.nn.functional as F"
   ]
  },
  {
   "cell_type": "code",
   "execution_count": 2,
   "metadata": {},
   "outputs": [
    {
     "name": "stderr",
     "output_type": "stream",
     "text": [
      "No model was supplied, defaulted to distilbert/distilbert-base-uncased-finetuned-sst-2-english and revision 714eb0f (https://huggingface.co/distilbert/distilbert-base-uncased-finetuned-sst-2-english).\n",
      "Using a pipeline without specifying a model name and revision in production is not recommended.\n",
      "Hardware accelerator e.g. GPU is available in the environment, but no `device` argument is passed to the `Pipeline` object. Model will be on CPU.\n"
     ]
    },
    {
     "data": {
      "text/plain": [
       "[{'label': 'NEGATIVE', 'score': 0.9991441965103149}]"
      ]
     },
     "execution_count": 2,
     "metadata": {},
     "output_type": "execute_result"
    }
   ],
   "source": [
    "classifier = pipeline(\"sentiment-analysis\")\n",
    "res = classifier(\"It's weird having to write a test statement\")\n",
    "\n",
    "res"
   ]
  },
  {
   "cell_type": "code",
   "execution_count": 3,
   "metadata": {},
   "outputs": [
    {
     "data": {
      "text/plain": [
       "True"
      ]
     },
     "execution_count": 3,
     "metadata": {},
     "output_type": "execute_result"
    }
   ],
   "source": [
    "torch.cuda.is_available()"
   ]
  },
  {
   "cell_type": "code",
   "execution_count": 4,
   "metadata": {},
   "outputs": [],
   "source": [
    "from datasets import load_dataset"
   ]
  },
  {
   "cell_type": "code",
   "execution_count": 5,
   "metadata": {},
   "outputs": [],
   "source": [
    "ds = load_dataset(\"imdb\")\n",
    "sm_train_ds = ds[\"train\"].shuffle(seed=42).select([i for i in list(range(3000))])\n",
    "sm_test_ds = ds[\"test\"].shuffle(seed=42).select([i for i in list(range(300))])"
   ]
  },
  {
   "cell_type": "code",
   "execution_count": 6,
   "metadata": {},
   "outputs": [],
   "source": [
    "from transformers import AutoTokenizer\n",
    "tokenizer = AutoTokenizer.from_pretrained(\"distilbert-base-uncased\")"
   ]
  },
  {
   "cell_type": "code",
   "execution_count": 7,
   "metadata": {},
   "outputs": [
    {
     "data": {
      "application/vnd.jupyter.widget-view+json": {
       "model_id": "b1b51e7021fa4e40b2f629f2888adec2",
       "version_major": 2,
       "version_minor": 0
      },
      "text/plain": [
       "Map:   0%|          | 0/3000 [00:00<?, ? examples/s]"
      ]
     },
     "metadata": {},
     "output_type": "display_data"
    },
    {
     "data": {
      "application/vnd.jupyter.widget-view+json": {
       "model_id": "84da64383a9f4b0aa46171550c3c2205",
       "version_major": 2,
       "version_minor": 0
      },
      "text/plain": [
       "Map:   0%|          | 0/300 [00:00<?, ? examples/s]"
      ]
     },
     "metadata": {},
     "output_type": "display_data"
    }
   ],
   "source": [
    "\n",
    "tokenized_train = sm_train_ds.map(lambda training_data: tokenizer(training_data[\"text\"], truncation=True))\n",
    "tokenized_test = sm_test_ds.map(lambda training_data: tokenizer(training_data[\"text\"], truncation=True))"
   ]
  },
  {
   "cell_type": "code",
   "execution_count": 8,
   "metadata": {},
   "outputs": [],
   "source": [
    "from transformers import DataCollatorWithPadding\n",
    "data_collator = DataCollatorWithPadding(tokenizer=tokenizer)"
   ]
  },
  {
   "cell_type": "code",
   "execution_count": 9,
   "metadata": {},
   "outputs": [
    {
     "name": "stderr",
     "output_type": "stream",
     "text": [
      "Some weights of DistilBertForSequenceClassification were not initialized from the model checkpoint at distilbert-base-uncased and are newly initialized: ['classifier.bias', 'classifier.weight', 'pre_classifier.bias', 'pre_classifier.weight']\n",
      "You should probably TRAIN this model on a down-stream task to be able to use it for predictions and inference.\n"
     ]
    }
   ],
   "source": [
    "from transformers import AutoModelForSequenceClassification\n",
    "model = AutoModelForSequenceClassification.from_pretrained(\"distilbert-base-uncased\", num_labels=2)"
   ]
  },
  {
   "cell_type": "code",
   "execution_count": 10,
   "metadata": {},
   "outputs": [
    {
     "name": "stdout",
     "output_type": "stream",
     "text": [
      "Logits (predictions): [[2.5 0.3]\n",
      " [0.2 1.8]\n",
      " [0.6 2.1]]\n",
      "Labels: [0 1 1]\n",
      "Metrics result: {'accuracy': 1.0, 'f1': 1.0}\n"
     ]
    }
   ],
   "source": [
    "import numpy as np\n",
    "import evaluate\n",
    "\n",
    "def make_metrics(eval_pred):\n",
    "    try:\n",
    "        logits, labels = eval_pred\n",
    "\n",
    "        if logits is None or labels is None:\n",
    "            raise ValueError(\"Predictions or labels are None. Check your model output and dataset.\")\n",
    "\n",
    "        predictions = np.argmax(logits, axis=1)\n",
    "\n",
    "        load_accuracy = evaluate.load(\"accuracy\")\n",
    "        load_f1 = evaluate.load(\"f1\")\n",
    "        accuracy = load_accuracy.compute(predictions=predictions, references=labels)[\"accuracy\"]\n",
    "        f1 = load_f1.compute(predictions=predictions, references=labels)[\"f1\"]\n",
    "\n",
    "        return {\"accuracy\": accuracy, \"f1\": f1}\n",
    "    \n",
    "    except Exception as e:\n",
    "        print(f\"Error in compute_metrics: {e}\")\n",
    "        return {\"accuracy\": 0.0, \"f1\": 0.0}\n",
    "    \n",
    "# Test\n",
    "logits = np.array([[2.5, 0.3], [0.2, 1.8], [0.6, 2.1]])\n",
    "labels = np.array([0, 1, 1])\n",
    "eval_pred = (logits, labels)\n",
    "\n",
    "metrics_result = make_metrics(eval_pred)\n",
    "print(f\"Metrics result: {metrics_result}\")\n"
   ]
  },
  {
   "cell_type": "code",
   "execution_count": 11,
   "metadata": {},
   "outputs": [
    {
     "data": {
      "application/vnd.jupyter.widget-view+json": {
       "model_id": "d530aa91b9f8428e92954e4f97ab0144",
       "version_major": 2,
       "version_minor": 0
      },
      "text/plain": [
       "VBox(children=(HTML(value='<center> <img\\nsrc=https://huggingface.co/front/assets/huggingface_logo-noborder.sv…"
      ]
     },
     "metadata": {},
     "output_type": "display_data"
    }
   ],
   "source": [
    "from huggingface_hub import notebook_login\n",
    "notebook_login()"
   ]
  },
  {
   "cell_type": "code",
   "execution_count": 13,
   "metadata": {},
   "outputs": [],
   "source": [
    "from transformers import TrainingArguments, Trainer, EarlyStoppingCallback\n",
    "import os\n",
    "os.environ[\"CUDA_LAUNCH_BLOCKING\"] = \"1\"\n",
    "repo = \"Falcontreras/Tiny_Sentiment_Tunning\"\n",
    "\n",
    "training_args = TrainingArguments(\n",
    "    output_dir = repo,\n",
    "    learning_rate = 2e-5,\n",
    "    per_device_train_batch_size = 16,\n",
    "    per_device_eval_batch_size = 16,\n",
    "    gradient_accumulation_steps=2,\n",
    "    num_train_epochs = 2,\n",
    "    weight_decay = 0.01,\n",
    "    save_strategy = \"epoch\",\n",
    ")\n",
    "\n",
    "trainer = Trainer(\n",
    "    model = model,\n",
    "    args = training_args,\n",
    "    train_dataset = tokenized_train,\n",
    "    eval_dataset = tokenized_test,\n",
    "    processing_class = tokenizer,\n",
    "    data_collator = data_collator,\n",
    "    compute_metrics = make_metrics,\n",
    ")"
   ]
  },
  {
   "cell_type": "code",
   "execution_count": 15,
   "metadata": {},
   "outputs": [
    {
     "data": {
      "application/vnd.jupyter.widget-view+json": {
       "model_id": "be622d763ce2435c8d59965636cf26a3",
       "version_major": 2,
       "version_minor": 0
      },
      "text/plain": [
       "  0%|          | 0/188 [00:00<?, ?it/s]"
      ]
     },
     "metadata": {},
     "output_type": "display_data"
    },
    {
     "name": "stdout",
     "output_type": "stream",
     "text": [
      "{'train_runtime': 7983.9042, 'train_samples_per_second': 0.752, 'train_steps_per_second': 0.024, 'train_loss': 0.7169969436970163, 'epoch': 2.0}\n"
     ]
    },
    {
     "data": {
      "text/plain": [
       "TrainOutput(global_step=188, training_loss=0.7169969436970163, metrics={'train_runtime': 7983.9042, 'train_samples_per_second': 0.752, 'train_steps_per_second': 0.024, 'total_flos': 782725021021056.0, 'train_loss': 0.7169969436970163, 'epoch': 2.0})"
      ]
     },
     "execution_count": 15,
     "metadata": {},
     "output_type": "execute_result"
    }
   ],
   "source": [
    "trainer.train()"
   ]
  },
  {
   "cell_type": "code",
   "execution_count": 17,
   "metadata": {},
   "outputs": [
    {
     "data": {
      "application/vnd.jupyter.widget-view+json": {
       "model_id": "67da675a7a4c4dc38b2dccfa42ce4f51",
       "version_major": 2,
       "version_minor": 0
      },
      "text/plain": [
       "  0%|          | 0/19 [00:00<?, ?it/s]"
      ]
     },
     "metadata": {},
     "output_type": "display_data"
    },
    {
     "name": "stdout",
     "output_type": "stream",
     "text": [
      "Logits (predictions): [[-1.6293926   1.7726997 ]\n",
      " [-1.1313399   1.2758397 ]\n",
      " [ 1.8944573  -1.4557424 ]\n",
      " [-1.3110665   1.4755783 ]\n",
      " [ 1.1447257  -0.88943374]\n",
      " [-1.6273776   1.7475519 ]\n",
      " [-1.5640956   1.6001297 ]\n",
      " [ 1.8975282  -1.55583   ]\n",
      " [ 1.2811943  -0.88485193]\n",
      " [-1.6648817   1.7681725 ]\n",
      " [-1.6094394   1.7663562 ]\n",
      " [ 2.025593   -1.5489964 ]\n",
      " [ 0.84684384 -0.6577347 ]\n",
      " [ 1.7370695  -1.3016437 ]\n",
      " [-1.2548065   1.2693152 ]\n",
      " [-1.4687142   1.5796375 ]\n",
      " [ 1.5047259  -1.0991029 ]\n",
      " [ 0.07051201  0.2427731 ]\n",
      " [-1.5749729   1.7036742 ]\n",
      " [-1.5331188   1.7154322 ]\n",
      " [ 1.7671981  -1.343828  ]\n",
      " [ 0.49133915 -0.2101544 ]\n",
      " [ 1.24735    -0.94446653]\n",
      " [-1.7186016   1.7815206 ]\n",
      " [ 1.8298724  -1.5154271 ]\n",
      " [-1.6680976   1.7243953 ]\n",
      " [ 1.8006867  -1.4741155 ]\n",
      " [-1.2293732   1.3555249 ]\n",
      " [-1.683152    1.8024626 ]\n",
      " [-1.7485244   1.8053206 ]\n",
      " [-1.1763717   0.98514134]\n",
      " [ 1.2347395  -1.1087644 ]\n",
      " [-0.9073483   0.92064005]\n",
      " [ 1.5867493  -1.2808142 ]\n",
      " [-1.0612026   1.1954702 ]\n",
      " [-1.381774    1.4805082 ]\n",
      " [ 1.280862   -1.1692842 ]\n",
      " [ 0.669538   -0.74781334]\n",
      " [ 0.05581843  0.22518283]\n",
      " [-0.44993603  0.64095783]\n",
      " [ 1.8845028  -1.4228404 ]\n",
      " [ 1.7911305  -1.4778974 ]\n",
      " [ 1.9401689  -1.5105499 ]\n",
      " [ 1.8409425  -1.5203152 ]\n",
      " [ 1.5056556  -1.1441491 ]\n",
      " [-1.6347668   1.7716023 ]\n",
      " [-1.3665862   1.3919948 ]\n",
      " [-1.2533101   1.4786038 ]\n",
      " [-1.6771024   1.7747283 ]\n",
      " [ 0.58708733 -0.56478935]\n",
      " [-1.5703022   1.6787337 ]\n",
      " [ 0.31881088 -0.18019404]\n",
      " [ 1.7085266  -1.2759024 ]\n",
      " [-1.3331636   1.3335835 ]\n",
      " [-1.6145704   1.7335786 ]\n",
      " [ 0.76188624 -0.56233877]\n",
      " [ 1.7372947  -1.3125529 ]\n",
      " [-1.4841695   1.4412062 ]\n",
      " [-1.1911802   1.3750374 ]\n",
      " [ 1.4331111  -1.1032231 ]\n",
      " [ 1.9887751  -1.5589268 ]\n",
      " [ 1.0531936  -0.5416968 ]\n",
      " [ 1.9397744  -1.4881366 ]\n",
      " [ 1.4645702  -1.1868488 ]\n",
      " [-1.610535    1.7652509 ]\n",
      " [ 1.7311758  -1.416091  ]\n",
      " [ 1.9351225  -1.5264862 ]\n",
      " [-1.4770294   1.5455167 ]\n",
      " [-1.4427261   1.5633991 ]\n",
      " [ 1.7434206  -1.423645  ]\n",
      " [ 0.69848037 -0.53411645]\n",
      " [ 1.721553   -1.3745774 ]\n",
      " [ 1.9534225  -1.5253997 ]\n",
      " [-1.336921    1.3330483 ]\n",
      " [ 0.70245343 -0.5916518 ]\n",
      " [-0.5185107   0.5652922 ]\n",
      " [ 1.5976459  -1.2528064 ]\n",
      " [-1.6431108   1.6807314 ]\n",
      " [ 1.6173762  -1.3229251 ]\n",
      " [ 0.10988708 -0.04223099]\n",
      " [ 1.9344914  -1.4823046 ]\n",
      " [-1.6139896   1.6346914 ]\n",
      " [ 0.254302   -0.17584921]\n",
      " [-1.6573775   1.7286619 ]\n",
      " [-1.6225787   1.7209806 ]\n",
      " [-1.6798768   1.7623711 ]\n",
      " [-1.6550758   1.68787   ]\n",
      " [ 1.7548083  -1.4028499 ]\n",
      " [ 0.16991633 -0.03021755]\n",
      " [-1.647814    1.6502932 ]\n",
      " [ 0.33245054 -0.27139583]\n",
      " [-1.6162806   1.7247456 ]\n",
      " [ 1.7477473  -1.437507  ]\n",
      " [-1.5593266   1.5895846 ]\n",
      " [ 0.7143036  -0.5717032 ]\n",
      " [ 1.5129511  -1.1870145 ]\n",
      " [ 1.8322945  -1.418044  ]\n",
      " [ 1.3247279  -1.0010797 ]\n",
      " [ 0.9996265  -0.7503706 ]\n",
      " [-1.7050459   1.7540933 ]\n",
      " [ 1.9339904  -1.5704536 ]\n",
      " [ 1.7287834  -1.2830651 ]\n",
      " [ 1.8783784  -1.3962235 ]\n",
      " [ 0.4751122  -0.2647583 ]\n",
      " [-0.02400676  0.09690185]\n",
      " [ 1.5116613  -1.1935841 ]\n",
      " [ 1.6847852  -1.2376294 ]\n",
      " [ 1.6252284  -1.2435338 ]\n",
      " [-0.6448425   0.8815418 ]\n",
      " [-0.68860036  0.72284806]\n",
      " [ 1.852183   -1.5127002 ]\n",
      " [-1.6973774   1.7124808 ]\n",
      " [-1.1618106   1.2708838 ]\n",
      " [-1.6536343   1.790116  ]\n",
      " [ 1.6162024  -1.305152  ]\n",
      " [-0.5007818   0.51704633]\n",
      " [-1.483138    1.5750244 ]\n",
      " [ 1.2927153  -0.910365  ]\n",
      " [-1.479232    1.3480004 ]\n",
      " [ 1.4766905  -1.0994653 ]\n",
      " [ 1.7666262  -1.3820746 ]\n",
      " [ 1.2413255  -1.0644939 ]\n",
      " [ 1.1189694  -0.9165305 ]\n",
      " [-1.6800685   1.7235734 ]\n",
      " [-1.7437822   1.7892562 ]\n",
      " [-0.50632125  0.69575745]\n",
      " [-0.81825817  0.98472923]\n",
      " [-1.591866    1.6484021 ]\n",
      " [ 1.9269149  -1.426963  ]\n",
      " [-1.669943    1.764337  ]\n",
      " [ 1.5588202  -1.1605707 ]\n",
      " [ 1.6741388  -1.3781645 ]\n",
      " [ 1.9166219  -1.4978898 ]\n",
      " [-1.0376246   1.0900502 ]\n",
      " [-0.21944994  0.25763386]\n",
      " [-1.6543305   1.7394848 ]\n",
      " [ 0.61246467 -0.53061587]\n",
      " [ 1.9390564  -1.5446777 ]\n",
      " [-1.6243186   1.63174   ]\n",
      " [-1.699797    1.7012982 ]\n",
      " [-0.13868076  0.0531969 ]\n",
      " [-1.3851576   1.4454111 ]\n",
      " [-1.3140742   1.266649  ]\n",
      " [ 1.9181472  -1.5292201 ]\n",
      " [-0.33527097  0.46472356]\n",
      " [ 1.5638427  -1.2732497 ]\n",
      " [ 1.4943769  -1.1540346 ]\n",
      " [-0.73067     0.74784815]\n",
      " [-1.6998078   1.8068442 ]\n",
      " [ 1.934527   -1.5720683 ]\n",
      " [ 1.7986934  -1.4475155 ]\n",
      " [ 1.492815   -1.0717409 ]\n",
      " [ 1.6076139  -1.2951231 ]\n",
      " [-1.3359009   1.3668147 ]\n",
      " [ 1.6861165  -1.30709   ]\n",
      " [ 0.7995775  -0.591158  ]\n",
      " [-1.6342957   1.7307981 ]\n",
      " [-1.0718458   1.1489488 ]\n",
      " [-1.3515191   1.4242297 ]\n",
      " [ 1.6564866  -1.3805274 ]\n",
      " [ 1.8612814  -1.3748558 ]\n",
      " [-1.6551042   1.6814936 ]\n",
      " [-0.01839353  0.03556433]\n",
      " [ 1.282648   -1.1080754 ]\n",
      " [ 1.9871399  -1.5847604 ]\n",
      " [-0.2686006   0.5203159 ]\n",
      " [-1.4931666   1.6208634 ]\n",
      " [ 0.82233334 -0.6840611 ]\n",
      " [ 1.8997169  -1.3872528 ]\n",
      " [ 1.9047265  -1.4219267 ]\n",
      " [-1.460188    1.4846967 ]\n",
      " [-1.6898113   1.7097032 ]\n",
      " [ 1.5226519  -1.157075  ]\n",
      " [ 1.5454186  -1.264546  ]\n",
      " [ 1.9705427  -1.530564  ]\n",
      " [-0.42259702  0.57829344]\n",
      " [-1.1550865   1.3893485 ]\n",
      " [-1.6577834   1.7151814 ]\n",
      " [-1.6024653   1.6792848 ]\n",
      " [-1.6031904   1.6148971 ]\n",
      " [-0.00406591  0.08689944]\n",
      " [-1.7037781   1.769049  ]\n",
      " [-0.25773942  0.43525374]\n",
      " [ 1.6982276  -1.1094501 ]\n",
      " [ 1.729655   -1.4252871 ]\n",
      " [ 0.07690474  0.06539666]\n",
      " [ 1.9621291  -1.5128789 ]\n",
      " [-1.47307     1.5164328 ]\n",
      " [-1.2722204   1.2494674 ]\n",
      " [ 1.9008687  -1.4893501 ]\n",
      " [-1.2233142   1.1256989 ]\n",
      " [ 1.7432258  -1.2364498 ]\n",
      " [ 1.0753201  -0.84750247]\n",
      " [ 1.1852056  -0.9986585 ]\n",
      " [-1.6655662   1.7657572 ]\n",
      " [-1.2991912   1.4703743 ]\n",
      " [ 1.8780478  -1.4153196 ]\n",
      " [-1.6327145   1.7625544 ]\n",
      " [-0.72919804  0.7828968 ]\n",
      " [-1.6956475   1.7841684 ]\n",
      " [ 0.07132239  0.18523988]\n",
      " [ 1.7481041  -1.480025  ]\n",
      " [ 2.0013258  -1.5179417 ]\n",
      " [ 0.3395084  -0.28464013]\n",
      " [ 1.0304856  -0.830608  ]\n",
      " [ 1.8869157  -1.5035255 ]\n",
      " [-1.3753546   1.4614255 ]\n",
      " [ 1.2522689  -0.92594665]\n",
      " [ 1.524219   -1.2124388 ]\n",
      " [ 1.6391909  -1.236894  ]\n",
      " [-1.5016038   1.6062516 ]\n",
      " [ 1.6397104  -1.3442063 ]\n",
      " [ 0.24493091  0.03650794]\n",
      " [ 1.527986   -1.2387186 ]\n",
      " [ 1.8435152  -1.4200075 ]\n",
      " [-1.7149965   1.6413333 ]\n",
      " [-1.6383655   1.6751288 ]\n",
      " [-1.7258394   1.8161604 ]\n",
      " [ 1.8495474  -1.4973764 ]\n",
      " [-0.7194505   0.72773784]\n",
      " [-0.8643043   0.94316363]\n",
      " [ 1.701146   -1.3386768 ]\n",
      " [ 1.0474257  -0.8440424 ]\n",
      " [ 1.4492506  -1.1293163 ]\n",
      " [-1.6653862   1.6632757 ]\n",
      " [-1.5683024   1.6882977 ]\n",
      " [-1.744072    1.8014513 ]\n",
      " [-1.6951835   1.7560782 ]\n",
      " [-1.7203413   1.6572542 ]\n",
      " [-1.2701207   1.4039693 ]\n",
      " [ 1.8411357  -1.3807471 ]\n",
      " [ 0.8856463  -0.61699176]\n",
      " [ 1.9582723  -1.6033707 ]\n",
      " [ 0.54046816 -0.37361497]\n",
      " [-1.729458    1.7612071 ]\n",
      " [-1.7445912   1.7389091 ]\n",
      " [-1.5605773   1.492818  ]\n",
      " [ 1.811557   -1.4990313 ]\n",
      " [-1.706075    1.7686872 ]\n",
      " [ 1.9566054  -1.5556933 ]\n",
      " [-1.1540873   1.1457531 ]\n",
      " [-1.6427889   1.7510526 ]\n",
      " [ 1.8212154  -1.4606612 ]\n",
      " [ 1.6806507  -1.3604112 ]\n",
      " [-1.6465201   1.7920125 ]\n",
      " [ 1.8516498  -1.4669416 ]\n",
      " [-1.6920682   1.7143778 ]\n",
      " [-0.8648877   0.863568  ]\n",
      " [-1.5713762   1.612605  ]\n",
      " [-1.6142262   1.6325809 ]\n",
      " [ 1.9109023  -1.5259752 ]\n",
      " [ 0.93620926 -0.6241217 ]\n",
      " [ 1.7714274  -1.3983043 ]\n",
      " [-1.6495129   1.7155393 ]\n",
      " [-1.6351516   1.6420771 ]\n",
      " [-0.16079983  0.28611162]\n",
      " [-1.658966    1.7855141 ]\n",
      " [-1.5851145   1.6852784 ]\n",
      " [-1.6394631   1.7665395 ]\n",
      " [-1.6834846   1.6315701 ]\n",
      " [-1.4756069   1.3958979 ]\n",
      " [-1.2252247   1.3163742 ]\n",
      " [-1.6975912   1.7460319 ]\n",
      " [-1.4808259   1.5533732 ]\n",
      " [ 1.6027282  -1.2336853 ]\n",
      " [-1.6974534   1.7469049 ]\n",
      " [-0.23452683  0.29539126]\n",
      " [ 1.9208272  -1.5880666 ]\n",
      " [-1.495323    1.559076  ]\n",
      " [ 1.8938631  -1.4656411 ]\n",
      " [-0.23725055  0.3400495 ]\n",
      " [-1.1606537   1.2458085 ]\n",
      " [ 1.0522319  -0.57119024]\n",
      " [-0.92934215  0.9473759 ]\n",
      " [-1.724797    1.6231633 ]\n",
      " [-1.6299407   1.7313004 ]\n",
      " [ 1.8555503  -1.5150076 ]\n",
      " [-1.243148    1.3103626 ]\n",
      " [-0.9879536   0.94897187]\n",
      " [ 0.54859585 -0.25769547]\n",
      " [-1.5273843   1.5779573 ]\n",
      " [ 1.7354779  -1.4190714 ]\n",
      " [ 1.8396993  -1.4576845 ]\n",
      " [-1.682975    1.6943381 ]\n",
      " [ 1.9871111  -1.5596204 ]\n",
      " [-0.24263664  0.2984589 ]\n",
      " [ 1.6131343  -1.2207369 ]\n",
      " [-1.1057276   1.18119   ]\n",
      " [-1.6680596   1.6923646 ]\n",
      " [-0.7547376   0.89342016]\n",
      " [-1.4869109   1.513201  ]\n",
      " [ 1.8311564  -1.4655825 ]\n",
      " [-0.46969545  0.65285224]\n",
      " [-0.61338097  0.8684166 ]\n",
      " [ 0.7017295  -0.54081506]\n",
      " [-1.0521463   1.1157693 ]\n",
      " [-0.68419164  0.7867704 ]\n",
      " [ 0.4458768  -0.19902954]\n",
      " [ 1.9788063  -1.4984391 ]\n",
      " [-1.1056374   1.0986531 ]]\n",
      "Labels: [1 1 0 1 0 1 1 0 0 1 1 0 0 0 1 1 0 0 1 1 0 0 0 1 0 1 0 1 1 1 0 0 1 0 0 1 0\n",
      " 0 0 0 0 0 0 0 0 1 1 1 1 0 1 1 0 1 1 1 0 1 1 1 0 0 0 0 1 0 0 1 1 0 0 0 0 1\n",
      " 0 0 0 1 0 1 0 1 0 1 1 1 1 0 1 1 0 1 0 1 0 0 0 0 1 1 0 0 0 1 1 0 0 0 0 0 1\n",
      " 1 1 1 0 1 1 0 1 1 0 0 0 1 1 1 0 1 0 1 0 0 0 1 1 1 0 0 1 1 0 1 1 0 1 0 0 0\n",
      " 1 0 0 0 0 1 0 0 1 1 1 0 0 1 0 0 0 1 1 0 0 0 1 1 0 0 0 0 1 1 1 1 1 1 1 0 0\n",
      " 1 0 0 1 0 1 0 0 1 1 1 0 1 1 1 1 0 0 0 0 0 1 0 0 0 1 1 1 0 0 1 1 1 0 1 0 0\n",
      " 0 0 1 1 1 1 1 0 0 0 0 1 1 1 1 0 1 0 1 1 0 0 1 0 1 0 1 1 0 0 0 1 1 1 1 1 1\n",
      " 1 1 0 1 0 0 1 1 0 1 0 1 1 0 1 1 1 0 1 1 1 1 0 0 1 0 1 0 1 1 0 1 0 0 1 0 1\n",
      " 1 0 0 0]\n"
     ]
    },
    {
     "data": {
      "text/plain": [
       "{'eval_loss': 0.29375752806663513,\n",
       " 'eval_model_preparation_time': 0.004,\n",
       " 'eval_accuracy': 0.8766666666666667,\n",
       " 'eval_f1': 0.8794788273615635,\n",
       " 'eval_runtime': 22.7712,\n",
       " 'eval_samples_per_second': 13.175,\n",
       " 'eval_steps_per_second': 0.834,\n",
       " 'epoch': 2.0}"
      ]
     },
     "execution_count": 17,
     "metadata": {},
     "output_type": "execute_result"
    }
   ],
   "source": [
    "trainer.evaluate()"
   ]
  },
  {
   "cell_type": "code",
   "execution_count": 16,
   "metadata": {},
   "outputs": [
    {
     "data": {
      "application/vnd.jupyter.widget-view+json": {
       "model_id": "5528305432a2437d98fd5c26c1b43324",
       "version_major": 2,
       "version_minor": 0
      },
      "text/plain": [
       "training_args.bin:   0%|          | 0.00/5.30k [00:00<?, ?B/s]"
      ]
     },
     "metadata": {},
     "output_type": "display_data"
    },
    {
     "data": {
      "application/vnd.jupyter.widget-view+json": {
       "model_id": "77e23d8d0e6b41f1974dcadfdff47963",
       "version_major": 2,
       "version_minor": 0
      },
      "text/plain": [
       "Upload 2 LFS files:   0%|          | 0/2 [00:00<?, ?it/s]"
      ]
     },
     "metadata": {},
     "output_type": "display_data"
    },
    {
     "data": {
      "application/vnd.jupyter.widget-view+json": {
       "model_id": "a24d33a5ead64ef4971b5305330b45e7",
       "version_major": 2,
       "version_minor": 0
      },
      "text/plain": [
       "model.safetensors:   0%|          | 0.00/268M [00:00<?, ?B/s]"
      ]
     },
     "metadata": {},
     "output_type": "display_data"
    },
    {
     "data": {
      "text/plain": [
       "CommitInfo(commit_url='https://huggingface.co/Falcontreras/Tiny_Sentiment_Tunning/commit/6b6c6557caf56911a93860861f51887a56f503a0', commit_message='End of training', commit_description='', oid='6b6c6557caf56911a93860861f51887a56f503a0', pr_url=None, repo_url=RepoUrl('https://huggingface.co/Falcontreras/Tiny_Sentiment_Tunning', endpoint='https://huggingface.co', repo_type='model', repo_id='Falcontreras/Tiny_Sentiment_Tunning'), pr_revision=None, pr_num=None)"
      ]
     },
     "execution_count": 16,
     "metadata": {},
     "output_type": "execute_result"
    }
   ],
   "source": [
    "trainer.push_to_hub()"
   ]
  },
  {
   "cell_type": "code",
   "execution_count": 4,
   "metadata": {},
   "outputs": [
    {
     "name": "stderr",
     "output_type": "stream",
     "text": [
      "Hardware accelerator e.g. GPU is available in the environment, but no `device` argument is passed to the `Pipeline` object. Model will be on CPU.\n"
     ]
    },
    {
     "data": {
      "text/plain": [
       "[{'label': 'LABEL_0', 'score': 0.9007973074913025},\n",
       " {'label': 'LABEL_1', 'score': 0.9501630067825317},\n",
       " {'label': 'LABEL_0', 'score': 0.6908736228942871}]"
      ]
     },
     "execution_count": 4,
     "metadata": {},
     "output_type": "execute_result"
    }
   ],
   "source": [
    "from transformers import pipeline\n",
    " \n",
    "sentiment_model = pipeline(model=\"Falcontreras/Tiny_Sentiment_Tunning\")\n",
    "sentiment_model([\"What a shitty company omg\", \"This was a great game, I appreciate the graphics\", \"Uh, I wouldn't try it out\"])"
   ]
  }
 ],
 "metadata": {
  "kernelspec": {
   "display_name": "venv",
   "language": "python",
   "name": "python3"
  },
  "language_info": {
   "codemirror_mode": {
    "name": "ipython",
    "version": 3
   },
   "file_extension": ".py",
   "mimetype": "text/x-python",
   "name": "python",
   "nbconvert_exporter": "python",
   "pygments_lexer": "ipython3",
   "version": "3.11.0"
  }
 },
 "nbformat": 4,
 "nbformat_minor": 2
}
